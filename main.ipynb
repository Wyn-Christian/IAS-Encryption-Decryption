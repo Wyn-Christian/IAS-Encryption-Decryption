{
 "cells": [
  {
   "attachments": {},
   "cell_type": "markdown",
   "metadata": {},
   "source": [
    "# Substitution Cipher - Ceasar Cipher\n"
   ]
  },
  {
   "cell_type": "code",
   "execution_count": 20,
   "metadata": {},
   "outputs": [],
   "source": [
    "def caesar_encrypt(plaintext, n):\n",
    "\tans = \"\"\n",
    "\t# iterate over the given text\n",
    "\tfor i in range(len(plaintext)):\n",
    "\t\tch = plaintext[i]\n",
    "\n",
    "\t\t# check if a character is uppercase then encrypt it accordingly\n",
    "\t\tif (ch.isupper()):\n",
    "\t\t\tans += chr((ord(ch) + n-65) % 26 + 65)\n",
    "\t\t# check if a character is number then encrypt it accordingly\n",
    "\t\telif (ch.isdigit()):\n",
    "\t\t\tans += chr((ord(ch) + n-48) % 10 + 48)\n",
    "\t\t# check if a character is lowercase then encrypt it accordingly\n",
    "\t\telif (ch.islower()):\n",
    "\t\t\tans += chr((ord(ch) + n-97) % 26 + 97)\n",
    "\t\telse:\n",
    "\t\t\tans += ch\n",
    "\treturn ans"
   ]
  },
  {
   "cell_type": "code",
   "execution_count": 21,
   "metadata": {},
   "outputs": [],
   "source": [
    "def caesar_decrypt(encrypted_text, n):\n",
    "\tans = \"\"\n",
    "\n",
    "\t# iterate over the given text\n",
    "\tfor i in range(len(encrypted_text)):\n",
    "\t\tch = encrypted_text[i]\n",
    "\n",
    "    # check if a character is uppercase\n",
    "\t\tif (ch.isupper()):\n",
    "\t\t\tans += chr((ord(ch) - n + 65) % 26 + 65)\n",
    "\t\t# check if a character is number\n",
    "\t\telif (ch.isdigit()):\n",
    "\t\t\tans += chr((ord(ch) - n-48) % 10 + 48)\n",
    "\t\t# check if a character is lowercase\n",
    "\t\telif (ch.islower()):\n",
    "\t\t\tans += chr((ord(ch) - n-97) % 26 + 97)\n",
    "\t\telse:\n",
    "\t\t\tans += ch\n",
    "\treturn ans"
   ]
  },
  {
   "attachments": {},
   "cell_type": "markdown",
   "metadata": {},
   "source": [
    "### Cipher Test"
   ]
  },
  {
   "cell_type": "code",
   "execution_count": 32,
   "metadata": {},
   "outputs": [
    {
     "name": "stdout",
     "output_type": "stream",
     "text": [
      "Caesar Cipher Test\n",
      "Encrypt Test:\n",
      "Plain Text is : 'abcd-JKL-wxyz 0123456789 \n",
      " ABCD-jkl-WXYZ'\n",
      "Shift pattern is : 5\n",
      "Cipher Text is : 'fghi-OPQ-bcde 5678901234 \n",
      " FGHI-opq-BCDE'\n",
      "\n",
      "Decrypt Test:\n",
      "Plain Text is : 'fghi-OPQ-bcde 5678901234 \n",
      " FGHI-opq-BCDE'\n",
      "Shift pattern is : 5\n",
      "Cipher Text is : 'abcd-JKL-wxyz 0123456789 \n",
      " ABCD-jkl-WXYZ'\n"
     ]
    }
   ],
   "source": [
    "print(\"Caesar Cipher Test\")\n",
    "# Encryption Test\n",
    "plaintext = \"abcd-JKL-wxyz 0123456789 \\n ABCD-jkl-WXYZ\"\n",
    "n = 5\n",
    "print(\"Encrypt Test:\")\n",
    "print(f\"Plain Text is : '{plaintext}'\")\n",
    "print(f\"Shift pattern is : {str(n)}\")\n",
    "print(f\"Cipher Text is : '{caesar_encrypt(plaintext, n)}'\")\n",
    "\n",
    "encrypted_text = \"fghi-OPQ-bcde 5678901234 \\n FGHI-opq-BCDE\"\n",
    "print(\"\\nDecrypt Test:\")\n",
    "print(f\"Plain Text is : '{encrypted_text}'\")\n",
    "print(f\"Shift pattern is : {str(n)}\")\n",
    "print(f\"Cipher Text is : '{caesar_decrypt(encrypted_text, n)}'\")"
   ]
  },
  {
   "attachments": {},
   "cell_type": "markdown",
   "metadata": {},
   "source": [
    "# Transposition Cipher - Rail Fence Cipher\n"
   ]
  },
  {
   "cell_type": "code",
   "execution_count": 53,
   "metadata": {},
   "outputs": [],
   "source": [
    "def rail_fence_encrypt(text, key):\n",
    "  \"\"\"\n",
    "    Create the matrix to cipher\n",
    "    plain text key = rows ,\n",
    "    length(text) = columns\n",
    "    filling the rail matrix\n",
    "    to distinguish filled\n",
    "    spaces from blank ones\n",
    "  \"\"\"\n",
    "  rail = [['*' for i in range(len(text))]\n",
    "          for j in range(key)]\n",
    "\n",
    "  is_down = False\n",
    "  row, col = 0, 0\n",
    "\n",
    "  for i in range(len(text)):\n",
    "    # Check the direction of flow\n",
    "    if (row == 0) or (row == key - 1):\n",
    "        is_down = not is_down\n",
    "\n",
    "    # Fill the corresponding alphabet\n",
    "    rail[row][col] = text[i]\n",
    "    col += 1\n",
    "\n",
    "    # Find the next row using direction flag\n",
    "    if is_down:\n",
    "        row += 1\n",
    "    else:\n",
    "        row -= 1\n",
    "  \n",
    "  result = []\n",
    "  for i in range(key):\n",
    "    for j in range(len(text)):\n",
    "      if rail[i][j] != '*':\n",
    "        result.append(rail[i][j])\n",
    "\n",
    "  return(\"\".join(result))"
   ]
  },
  {
   "cell_type": "code",
   "execution_count": 54,
   "metadata": {},
   "outputs": [],
   "source": [
    "def rail_fence_decrypt(encrypted_text, key):\n",
    "  rail = [['\\n' for i in range(len(encrypted_text))]\n",
    "        for j in range(key)]\n",
    "  \n",
    "  is_down = False\n",
    "  row, col = 0, 0\n",
    "\n",
    "  for i in range(len(encrypted_text)):\n",
    "    if row == 0:\n",
    "      is_down  = True\n",
    "    if row == key - 1:\n",
    "      is_down = False\n",
    "    \n",
    "    rail[row][col] = \"*\"\n",
    "    col += 1\n",
    "\n",
    "    if is_down:\n",
    "      row += 1\n",
    "    else:\n",
    "      row -= 1\n",
    "\n",
    "  \n",
    "  index = 0\n",
    "  for i in range(key):\n",
    "    for j in range(len(encrypted_text)):\n",
    "      if((rail[i][j] == \"*\") and (index < (len(encrypted_text)))):\n",
    "        rail[i][j] = encrypted_text[index]\n",
    "        index += 1\n",
    "\n",
    "  # Read the matrix in zig-zag manner\n",
    "  result = []\n",
    "  row, col = 0, 0\n",
    "  for i in range(len(encrypted_text)):\n",
    "    # Check direction\n",
    "    if row == 0:\n",
    "      is_down = True\n",
    "    if row == key - 1:\n",
    "      is_down = False\n",
    "    \n",
    "    # Place the marker\n",
    "    if (rail[row][col] != \"*\"):\n",
    "      result.append(rail[row][col])\n",
    "      col += 1\n",
    "\n",
    "    # Find the next row using direction\n",
    "    if is_down:\n",
    "      row += 1\n",
    "    else:\n",
    "      row -= 1\n",
    "  return (\"\".join(result))"
   ]
  },
  {
   "attachments": {},
   "cell_type": "markdown",
   "metadata": {},
   "source": [
    "### Cipher Testing"
   ]
  },
  {
   "cell_type": "code",
   "execution_count": null,
   "metadata": {},
   "outputs": [],
   "source": [
    "print(\"Rail Fence Test\")\n",
    "# Test\n",
    "tests = [(\"attack \\n at once\", 2), (\"GeeksforGeeks \", 3), (\"defend the east wall\", 3)]\n",
    "\n",
    "for test in tests:\n",
    "  encrypted = rail_fence_encrypt(test[0], test[1])\n",
    "  print(f\"length: {len(test[0])}\")\n",
    "  print(\"Plain Text: '\" + test[0] + \"', key: \" + str(test[1]))\n",
    "  print(f\"Encrypt Test: '{encrypted}'\")\n",
    "  print(f\"Decrypt Test: '{rail_fence_decrypt(encrypted, test[1])}'\" )\n",
    "  print()\n"
   ]
  },
  {
   "attachments": {},
   "cell_type": "markdown",
   "metadata": {},
   "source": [
    "# Main Program"
   ]
  },
  {
   "cell_type": "code",
   "execution_count": 60,
   "metadata": {},
   "outputs": [
    {
     "name": "stdout",
     "output_type": "stream",
     "text": [
      "File Encryption\n",
      "File Decryption\n"
     ]
    }
   ],
   "source": [
    "from os import system\n",
    "\n",
    "def get_content(txt_file):\n",
    "  \"\"\"\n",
    "  Get the content of the .txt file\n",
    "  \"\"\"\n",
    "  try:\n",
    "    with open(txt_file, \"r\", encoding=\"utf-8\") as f:\n",
    "      content = f.read()\n",
    "      return content\n",
    "  except FileNotFoundError:\n",
    "      print(\"Error: File has not found / doesn't exist.\")\n",
    "      return False\n",
    "  \n",
    "def write_content(txt_file, content):\n",
    "  \"\"\"\n",
    "  Get the content of the .txt file\n",
    "  \"\"\"\n",
    "  try:\n",
    "    with open(txt_file, \"w+\", encoding=\"utf-8\") as f:\n",
    "      content = f.write(content)\n",
    "      return content\n",
    "  except FileNotFoundError:\n",
    "      print(\"Error: File has not found / doesn't exist.\")\n",
    "      return False\n",
    "\n",
    "# get_content(\"C:\\\\Users\\\\wynch\\\\OneDrive\\\\Desktop\\\\My Files\\\\Projects\\\\IAS-Encryption-Decryption\\\\sample.txt\")\n",
    "\n",
    "def main_menu():\n",
    "  system('cls')\n",
    "  print(\"Welcome to file cryptography!\")\n",
    "  print(\"[1] File Encryption\")\n",
    "  print(\"[2] File Decryption\")\n",
    "  print(\"[3] Exit\")\n",
    "  \n",
    "  while True:\n",
    "    choice = input(\"Enter (1, 2, or 3): \")\n",
    "    if choice in ['1', '2', '3']:\n",
    "      break\n",
    "    else:\n",
    "      print(\"Invalid choice! Please select 1, 2, or 3 only.\\n\")\n",
    "\n",
    "  return choice\n",
    "\n",
    "\n",
    "def encrypt_option():\n",
    "  system('cls')\n",
    "  print(\"File Encryption\")\n",
    "  filepath = input(\"Input the path file (txt): \")\n",
    "  caesar_key = int(input(\"Input Caesar Key: \"))\n",
    "  rail_fence_key = int(input(\"Input Rail Fence Key: \"))\n",
    "  \n",
    "  content = get_content(filepath)\n",
    "\n",
    "  encrypted_content_caesar = caesar_encrypt(content, caesar_key)\n",
    "  encrypted_content = rail_fence_encrypt(encrypted_content_caesar, rail_fence_key)\n",
    "\n",
    "  write_content(filepath, encrypted_content)\n",
    "\n",
    "def decrypt_option():\n",
    "  system('cls')\n",
    "  print(\"File Decryption\")\n",
    "  filepath = input(\"Input the path file (txt): \")\n",
    "  caesar_key = int(input(\"Input Caesar Key: \"))\n",
    "  rail_fence_key = int(input(\"Input Rail Fence Key: \"))\n",
    "  \n",
    "  content = get_content(filepath)\n",
    "\n",
    "  decrypted_content_caesar = caesar_decrypt(content, caesar_key)\n",
    "  decrypted_content = rail_fence_decrypt(decrypted_content_caesar, rail_fence_key)\n",
    "\n",
    "  write_content(filepath, decrypted_content)"
   ]
  },
  {
   "cell_type": "code",
   "execution_count": 61,
   "metadata": {},
   "outputs": [],
   "source": [
    "def main():\n",
    "  while True:\n",
    "    choice = main_menu()\n",
    "    if choice == '1': \n",
    "      encrypt_option()\n",
    "    elif choice == '2': \n",
    "      decrypt_option()\n",
    "    elif choice == '3':\n",
    "      system('cls')\n",
    "      print(\"Thank you for using the program.\")\n",
    "      print(\"Halting the program.\")\n",
    "      break\n",
    "    else:\n",
    "      print(\"Invalid choice! Please select 1, 2, or 3 only.\\n\")"
   ]
  },
  {
   "cell_type": "code",
   "execution_count": 64,
   "metadata": {},
   "outputs": [
    {
     "name": "stdout",
     "output_type": "stream",
     "text": [
      "Welcome to file cryptography!\n",
      "[1] File Encryption\n",
      "[2] File Decryption\n",
      "[3] Exit\n",
      "File Encryption\n",
      "Welcome to file cryptography!\n",
      "[1] File Encryption\n",
      "[2] File Decryption\n",
      "[3] Exit\n",
      "File Decryption\n",
      "Welcome to file cryptography!\n",
      "[1] File Encryption\n",
      "[2] File Decryption\n",
      "[3] Exit\n",
      "Thank you for using the program.\n",
      "Halting the program.\n"
     ]
    }
   ],
   "source": [
    "main()"
   ]
  }
 ],
 "metadata": {
  "kernelspec": {
   "display_name": "Python 3",
   "language": "python",
   "name": "python3"
  },
  "language_info": {
   "codemirror_mode": {
    "name": "ipython",
    "version": 3
   },
   "file_extension": ".py",
   "mimetype": "text/x-python",
   "name": "python",
   "nbconvert_exporter": "python",
   "pygments_lexer": "ipython3",
   "version": "3.11.4"
  },
  "orig_nbformat": 4
 },
 "nbformat": 4,
 "nbformat_minor": 2
}
