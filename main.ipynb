{
 "cells": [
  {
   "attachments": {},
   "cell_type": "markdown",
   "metadata": {},
   "source": [
    "# Substitution Cipher - Ceasar Cipher\n"
   ]
  },
  {
   "cell_type": "code",
   "execution_count": 10,
   "metadata": {},
   "outputs": [],
   "source": []
  },
  {
   "cell_type": "code",
   "execution_count": 11,
   "metadata": {},
   "outputs": [],
   "source": [
    "def ceasar_decrypt(encrypted_text, n):\n",
    "\tans = \"\"\n",
    "\n",
    "\t# iterate over the given text\n",
    "\tfor i in range(len(encrypted_text)):\n",
    "\t\tch = encrypted_text[i]\n",
    "\n",
    "    # check if a character is uppercase\n",
    "\t\tif (ch.isupper()):\n",
    "\t\t\tans += chr((ord(ch) - n + 65) % 26 + 65)\n",
    "\t\t# check if a character is number\n",
    "\t\telif (ch.isdigit()):\n",
    "\t\t\tans += chr((ord(ch) - n-48) % 10 + 48)\n",
    "\t\t# check if a character is lowercase\n",
    "\t\telif (ch.islower()):\n",
    "\t\t\tans += chr((ord(ch) - n-97) % 26 + 97)\n",
    "\t\telse:\n",
    "\t\t\tans += ch\n",
    "\treturn ans"
   ]
  },
  {
   "attachments": {},
   "cell_type": "markdown",
   "metadata": {},
   "source": [
    "### Cipher Test"
   ]
  },
  {
   "cell_type": "code",
   "execution_count": 31,
   "metadata": {},
   "outputs": [
    {
     "name": "stdout",
     "output_type": "stream",
     "text": [
      "Ceasar Cipher Test\n",
      "Encrypt Test:\n",
      "Plain Text is : 'abcd-JKL-wxyz 0123456789 ABCD-jkl-WXYZ'\n",
      "Shift pattern is : 5\n",
      "Cipher Text is : 'fghi-OPQ-bcde 5678901234 FGHI-opq-BCDE'\n",
      "\n",
      "Decrypt Test:\n",
      "Plain Text is : 'fghi-OPQ-bcde 5678901234 FGHI-opq-BCDE'\n",
      "Shift pattern is : 5\n",
      "Cipher Text is : 'abcd-JKL-wxyz 0123456789 ABCD-jkl-WXYZ'\n"
     ]
    }
   ],
   "source": [
    "print(\"Ceasar Cipher Test\")\n",
    "# Encryption Test\n",
    "plaintext = \"abcd-JKL-wxyz 0123456789 ABCD-jkl-WXYZ\"\n",
    "n = 5\n",
    "print(\"Encrypt Test:\")\n",
    "print(f\"Plain Text is : '{plaintext}'\")\n",
    "print(f\"Shift pattern is : {str(n)}\")\n",
    "print(f\"Cipher Text is : '{ceasar_encrypt(plaintext, n)}'\")\n",
    "\n",
    "encrypted_text = \"fghi-OPQ-bcde 5678901234 FGHI-opq-BCDE\"\n",
    "print(\"\\nDecrypt Test:\")\n",
    "print(f\"Plain Text is : '{encrypted_text}'\")\n",
    "print(f\"Shift pattern is : {str(n)}\")\n",
    "print(f\"Cipher Text is : '{ceasar_decrypt(encrypted_text, n)}'\")"
   ]
  },
  {
   "attachments": {},
   "cell_type": "markdown",
   "metadata": {},
   "source": [
    "# Transposition Cipher - Rail Fence Cipher\n"
   ]
  },
  {
   "cell_type": "code",
   "execution_count": 5,
   "metadata": {},
   "outputs": [],
   "source": [
    "def rail_fence_encrypt(text, key):\n",
    "  \"\"\"\n",
    "    Create the matrix to cipher\n",
    "    plain text key = rows ,\n",
    "    length(text) = columns\n",
    "    filling the rail matrix\n",
    "    to distinguish filled\n",
    "    spaces from blank ones\n",
    "  \"\"\"\n",
    "  rail = [['\\n' for i in range(len(text))]\n",
    "          for j in range(key)]\n",
    "\n",
    "  is_down = False\n",
    "  row, col = 0, 0\n",
    "\n",
    "  for i in range(len(text)):\n",
    "    # Check the direction of flow\n",
    "    if (row == 0) or (row == key - 1):\n",
    "        is_down = not is_down\n",
    "\n",
    "    # Fill the corresponding alphabet\n",
    "    rail[row][col] = text[i]\n",
    "    col += 1\n",
    "\n",
    "    # Find the next row using direction flag\n",
    "    if is_down:\n",
    "        row += 1\n",
    "    else:\n",
    "        row -= 1\n",
    "  \n",
    "  result = []\n",
    "  for i in range(key):\n",
    "    for j in range(len(text)):\n",
    "       if rail[i][j] != '\\n':\n",
    "          result.append(rail[i][j])\n",
    "\n",
    "  return(\"\".join(result))"
   ]
  },
  {
   "cell_type": "code",
   "execution_count": 4,
   "metadata": {},
   "outputs": [],
   "source": [
    "def rail_fence_decrypt(encrypted_text, key):\n",
    "  rail = [['\\n' for i in range(len(encrypted_text))]\n",
    "        for j in range(key)]\n",
    "  \n",
    "  is_down = False\n",
    "  row, col = 0, 0\n",
    "\n",
    "  for i in range(len(encrypted_text)):\n",
    "    if row == 0:\n",
    "      is_down  = True\n",
    "    if row == key - 1:\n",
    "      is_down = False\n",
    "    \n",
    "    rail[row][col] = \"*\"\n",
    "    col += 1\n",
    "\n",
    "    if is_down:\n",
    "      row += 1\n",
    "    else:\n",
    "      row -= 1\n",
    "\n",
    "  \n",
    "  index = 0\n",
    "  for i in range(key):\n",
    "    for j in range(len(encrypted_text)):\n",
    "      if((rail[i][j] == \"*\") and (index < (len(encrypted_text)))):\n",
    "        rail[i][j] = encrypted_text[index]\n",
    "        index += 1\n",
    "\n",
    "  # Read the matrix in zig-zag manner\n",
    "  result = []\n",
    "  row, col = 0, 0\n",
    "  for i in range(len(encrypted_text)):\n",
    "    # Check direction\n",
    "    if row == 0:\n",
    "      is_down = True\n",
    "    if row == key - 1:\n",
    "      is_down = False\n",
    "    \n",
    "    # Place the marker\n",
    "    if (rail[row][col] != \"*\"):\n",
    "      result.append(rail[row][col])\n",
    "      col += 1\n",
    "\n",
    "    # Find the next row using direction\n",
    "    if is_down:\n",
    "      row += 1\n",
    "    else:\n",
    "      row -= 1\n",
    "  return (\"\".join(result))"
   ]
  },
  {
   "attachments": {},
   "cell_type": "markdown",
   "metadata": {},
   "source": [
    "### Cipher Testing"
   ]
  },
  {
   "cell_type": "code",
   "execution_count": 33,
   "metadata": {},
   "outputs": [
    {
     "name": "stdout",
     "output_type": "stream",
     "text": [
      "Rail Fence Test\n",
      "Plain Text: 'attack at once', key: 2\n",
      "Encrypt Test: 'atc toctaka ne'\n",
      "Decrypt Test: 'attack at once'\n",
      "\n",
      "Plain Text: 'GeeksforGeeks ', key: 3\n",
      "Encrypt Test: 'GsGsekfrek eoe'\n",
      "Decrypt Test: 'GeeksforGeeks '\n",
      "\n",
      "Plain Text: 'defend the east wall', key: 3\n",
      "Encrypt Test: 'dnhaweedtees alf  tl'\n",
      "Decrypt Test: 'defend the east wall'\n",
      "\n"
     ]
    }
   ],
   "source": [
    "print(\"Rail Fence Test\")\n",
    "# Test\n",
    "tests = [(\"attack at once\", 2), (\"GeeksforGeeks \", 3), (\"defend the east wall\", 3)]\n",
    "\n",
    "for test in tests:\n",
    "  encrypted = rail_fence_encrypt(test[0], test[1])\n",
    "  print(\"Plain Text: '\" + test[0] + \"', key: \" + str(test[1]))\n",
    "  print(f\"Encrypt Test: '{encrypted}'\")\n",
    "  print(f\"Decrypt Test: '{rail_fence_decrypt(encrypted, test[1])}'\" )\n",
    "  print()\n"
   ]
  }
 ],
 "metadata": {
  "kernelspec": {
   "display_name": "Python 3",
   "language": "python",
   "name": "python3"
  },
  "language_info": {
   "codemirror_mode": {
    "name": "ipython",
    "version": 3
   },
   "file_extension": ".py",
   "mimetype": "text/x-python",
   "name": "python",
   "nbconvert_exporter": "python",
   "pygments_lexer": "ipython3",
   "version": "3.11.4"
  },
  "orig_nbformat": 4
 },
 "nbformat": 4,
 "nbformat_minor": 2
}
